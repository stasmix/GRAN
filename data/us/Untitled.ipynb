{
 "cells": [
  {
   "cell_type": "code",
   "execution_count": 15,
   "metadata": {},
   "outputs": [],
   "source": [
    "import pandas as pd\n",
    "import networkx as nx\n",
    "import numpy as np\n",
    "import osmnx as ox\n",
    "import os \n",
    "import copy\n",
    "import pickle\n",
    "import gzip\n",
    "os.chdir(r\"C:\\Users\\olive\\OneDrive\\Dokumenter\\GitHub\\GRAN\\testing\")"
   ]
  },
  {
   "cell_type": "code",
   "execution_count": 37,
   "metadata": {},
   "outputs": [
    {
     "data": {
      "text/html": [
       "<div>\n",
       "<style scoped>\n",
       "    .dataframe tbody tr th:only-of-type {\n",
       "        vertical-align: middle;\n",
       "    }\n",
       "\n",
       "    .dataframe tbody tr th {\n",
       "        vertical-align: top;\n",
       "    }\n",
       "\n",
       "    .dataframe thead th {\n",
       "        text-align: right;\n",
       "    }\n",
       "</style>\n",
       "<table border=\"1\" class=\"dataframe\">\n",
       "  <thead>\n",
       "    <tr style=\"text-align: right;\">\n",
       "      <th></th>\n",
       "      <th>Unnamed: 0</th>\n",
       "      <th>Name</th>\n",
       "      <th>Population</th>\n",
       "      <th>Latitude</th>\n",
       "      <th>Longitude</th>\n",
       "    </tr>\n",
       "  </thead>\n",
       "  <tbody>\n",
       "    <tr>\n",
       "      <th>0</th>\n",
       "      <td>71019</td>\n",
       "      <td>New York City</td>\n",
       "      <td>8175133</td>\n",
       "      <td>40.71427</td>\n",
       "      <td>-74.00597</td>\n",
       "    </tr>\n",
       "    <tr>\n",
       "      <th>1</th>\n",
       "      <td>61255</td>\n",
       "      <td>Los Angeles</td>\n",
       "      <td>3971883</td>\n",
       "      <td>34.05223</td>\n",
       "      <td>-118.24368</td>\n",
       "    </tr>\n",
       "    <tr>\n",
       "      <th>2</th>\n",
       "      <td>43236</td>\n",
       "      <td>Chicago</td>\n",
       "      <td>2720546</td>\n",
       "      <td>41.85003</td>\n",
       "      <td>-87.65005</td>\n",
       "    </tr>\n",
       "    <tr>\n",
       "      <th>3</th>\n",
       "      <td>84523</td>\n",
       "      <td>Brooklyn</td>\n",
       "      <td>2300664</td>\n",
       "      <td>40.65010</td>\n",
       "      <td>-73.94958</td>\n",
       "    </tr>\n",
       "    <tr>\n",
       "      <th>4</th>\n",
       "      <td>91965</td>\n",
       "      <td>Houston</td>\n",
       "      <td>2296224</td>\n",
       "      <td>29.76328</td>\n",
       "      <td>-95.36327</td>\n",
       "    </tr>\n",
       "  </tbody>\n",
       "</table>\n",
       "</div>"
      ],
      "text/plain": [
       "   Unnamed: 0           Name  Population  Latitude  Longitude\n",
       "0       71019  New York City     8175133  40.71427  -74.00597\n",
       "1       61255    Los Angeles     3971883  34.05223 -118.24368\n",
       "2       43236        Chicago     2720546  41.85003  -87.65005\n",
       "3       84523       Brooklyn     2300664  40.65010  -73.94958\n",
       "4       91965        Houston     2296224  29.76328  -95.36327"
      ]
     },
     "execution_count": 37,
     "metadata": {},
     "output_type": "execute_result"
    }
   ],
   "source": [
    "df = pd.read_csv('list of us cities.csv', index_col=False)\n",
    "df.head()"
   ]
  },
  {
   "cell_type": "code",
   "execution_count": 44,
   "metadata": {},
   "outputs": [],
   "source": [
    "point = (df['Latitude'].iloc[0], df['Longitude'].iloc[0])\n",
    "G = ox.graph_from_point(point, distance=200, network_type='drive')"
   ]
  },
  {
   "cell_type": "code",
   "execution_count": 45,
   "metadata": {},
   "outputs": [
    {
     "data": {
      "text/plain": [
       "16"
      ]
     },
     "execution_count": 45,
     "metadata": {},
     "output_type": "execute_result"
    }
   ],
   "source": [
    "len(G)"
   ]
  },
  {
   "cell_type": "code",
   "execution_count": 22,
   "metadata": {},
   "outputs": [
    {
     "data": {
      "text/plain": [
       "79.199"
      ]
     },
     "execution_count": 22,
     "metadata": {},
     "output_type": "execute_result"
    }
   ],
   "source": [
    "G[1059852291][6529513519][0]['length']"
   ]
  },
  {
   "cell_type": "code",
   "execution_count": 24,
   "metadata": {},
   "outputs": [
    {
     "data": {
      "text/plain": [
       "{'y': 41.016639, 'x': 28.9494877, 'osmid': 1059852291}"
      ]
     },
     "execution_count": 24,
     "metadata": {},
     "output_type": "execute_result"
    }
   ],
   "source": [
    "G.nodes(data=True)[1059852291]"
   ]
  },
  {
   "cell_type": "code",
   "execution_count": 25,
   "metadata": {},
   "outputs": [
    {
     "data": {
      "text/plain": [
       "{'y': 41.0159363, 'x': 28.9493336, 'osmid': 6529513519}"
      ]
     },
     "execution_count": 25,
     "metadata": {},
     "output_type": "execute_result"
    }
   ],
   "source": [
    "G.nodes(data=True)[6529513519]"
   ]
  },
  {
   "cell_type": "code",
   "execution_count": 28,
   "metadata": {},
   "outputs": [
    {
     "name": "stdout",
     "output_type": "stream",
     "text": [
      "70.48773397432979 K.M\n"
     ]
    }
   ],
   "source": [
    "from math import radians, cos, sin, asin, sqrt \n",
    "def distance(lat1, lat2, lon1, lon2): \n",
    "      \n",
    "    # The math module contains a function named \n",
    "    # radians which converts from degrees to radians. \n",
    "    lon1 = radians(lon1) \n",
    "    lon2 = radians(lon2) \n",
    "    lat1 = radians(lat1) \n",
    "    lat2 = radians(lat2) \n",
    "       \n",
    "    # Haversine formula  \n",
    "    dlon = lon2 - lon1  \n",
    "    dlat = lat2 - lat1 \n",
    "    a = sin(dlat / 2)**2 + cos(lat1) * cos(lat2) * sin(dlon / 2)**2\n",
    "  \n",
    "    c = 2 * asin(sqrt(a))  \n",
    "     \n",
    "    # Radius of earth in kilometers. Use 3956 for miles \n",
    "    r = 6371\n",
    "       \n",
    "    # calculate the result \n",
    "    return(c * r) * 1000\n",
    "      \n",
    "      \n",
    "# driver code  \n",
    "lat1 = 28.9494877\n",
    "lat2 = 28.9493336\n",
    "lon1 = 41.016639\n",
    "lon2 = 41.0159363\n",
    "print(distance(lat1, lat2, lon1, lon2), \"K.M\") "
   ]
  },
  {
   "cell_type": "code",
   "execution_count": 46,
   "metadata": {},
   "outputs": [],
   "source": [
    "eu = pd.read_csv('list of eu cities.csv', index_col=False)\n",
    "us = pd.read_csv('list of us cities.csv', index_col=False)"
   ]
  },
  {
   "cell_type": "code",
   "execution_count": 52,
   "metadata": {},
   "outputs": [
    {
     "name": "stdout",
     "output_type": "stream",
     "text": [
      "New York City\n",
      "Los Angeles\n",
      "Chicago\n",
      "Brooklyn\n",
      "Houston\n",
      "Queens\n",
      "Philadelphia\n",
      "Phoenix\n",
      "Manhattan\n",
      "San Antonio\n",
      "San Diego\n",
      "The Bronx\n",
      "Dallas\n",
      "San Jose\n",
      "Austin\n",
      "Jacksonville\n",
      "San Francisco\n",
      "Columbus\n",
      "Fort Worth\n",
      "Indianapolis\n",
      "Charlotte\n",
      "Seattle\n",
      "Denver\n",
      "El Paso\n",
      "Detroit\n",
      "Boston\n",
      "Memphis\n",
      "New South Memphis\n",
      "Portland\n",
      "Oklahoma City\n",
      "Las Vegas\n",
      "Baltimore\n",
      "Washington\n",
      "Milwaukee\n",
      "South Boston\n",
      "Albuquerque\n",
      "Tucson\n",
      "Nashville\n",
      "Fresno\n",
      "Sacramento\n",
      "Kansas City\n",
      "Long Beach\n",
      "Mesa\n",
      "Staten Island\n",
      "Atlanta\n",
      "Colorado Springs\n",
      "Virginia Beach\n",
      "Raleigh\n",
      "Omaha\n",
      "Miami\n",
      "Oakland\n",
      "Minneapolis\n",
      "Tulsa\n",
      "Wichita\n",
      "New Orleans\n",
      "Arlington\n",
      "Cleveland\n",
      "Bakersfield\n",
      "Honolulu\n",
      "Tampa\n",
      "Aurora\n",
      "Anaheim\n",
      "West Raleigh\n",
      "Santa Ana\n",
      "Corpus Christi\n",
      "Riverside\n",
      "St. Louis\n",
      "Lexington-Fayette\n",
      "Stockton\n",
      "Pittsburgh\n",
      "Anchorage\n",
      "Cincinnati\n",
      "Meads\n",
      "Ironville\n",
      "Henderson\n",
      "Greensboro\n",
      "Saint Paul\n",
      "Plano\n",
      "Newark\n",
      "Toledo\n",
      "Lincoln\n",
      "Orlando\n",
      "Chula Vista\n",
      "Jersey City\n",
      "Chandler\n",
      "Fort Wayne\n",
      "Buffalo\n",
      "Durham\n",
      "St. Petersburg\n",
      "Irvine\n",
      "Laredo\n",
      "Lubbock\n",
      "Madison\n",
      "Gilbert\n",
      "Norfolk\n",
      "Louisville\n",
      "Reno\n",
      "Winston-Salem\n",
      "Glendale\n",
      "Hialeah\n"
     ]
    }
   ],
   "source": [
    "for i in range(eu.shape[0]):\n",
    "    print(us['Name'].iloc[i])"
   ]
  },
  {
   "cell_type": "code",
   "execution_count": null,
   "metadata": {},
   "outputs": [],
   "source": []
  }
 ],
 "metadata": {
  "kernelspec": {
   "display_name": "Python 3",
   "language": "python",
   "name": "python3"
  },
  "language_info": {
   "codemirror_mode": {
    "name": "ipython",
    "version": 3
   },
   "file_extension": ".py",
   "mimetype": "text/x-python",
   "name": "python",
   "nbconvert_exporter": "python",
   "pygments_lexer": "ipython3",
   "version": "3.7.6"
  }
 },
 "nbformat": 4,
 "nbformat_minor": 4
}
